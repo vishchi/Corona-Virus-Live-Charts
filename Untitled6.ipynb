{
 "cells": [
  {
   "cell_type": "code",
   "execution_count": 1,
   "metadata": {},
   "outputs": [],
   "source": [
    "import requests \n",
    "from bs4 import BeautifulSoup \n",
    "from tabulate import tabulate \n",
    "import os \n",
    "import numpy as np \n",
    "import matplotlib.pyplot as plt "
   ]
  },
  {
   "cell_type": "code",
   "execution_count": 2,
   "metadata": {},
   "outputs": [],
   "source": [
    "extract_contents = lambda row: [x.text.replace('\\n', '') for x in row] \n",
    "URL = 'https://www.mohfw.gov.in/'\n",
    "\n",
    "SHORT_HEADERS = ['SNo', 'State','Indian-Confirmed', \n",
    "\t\t\t\t'Foreign-Confirmed','Cured','Death'] \n",
    "\n",
    "response = requests.get(URL).content \n",
    "soup = BeautifulSoup(response, 'html.parser') \n",
    "header = extract_contents(soup.tr.find_all('th')) \n",
    "\n",
    "stats = [] \n",
    "all_rows = soup.find_all('tr') \n",
    "\n",
    "for row in all_rows: \n",
    "\tstat = extract_contents(row.find_all('td')) \n",
    "\tif stat: \n",
    "\t\tif len(stat) == 5: \n",
    "\t\t\t# last row \n",
    "\t\t\tstat = ['', *stat] \n",
    "\t\t\tstats.append(stat) \n",
    "\t\telif len(stat) == 6: \n",
    "\t\t\tstats.append(stat) \n",
    "\n",
    "stats[-1][1] = \"Total Cases\"\n",
    "\n",
    "stats.remove(stats[-1]) \n"
   ]
  },
  {
   "cell_type": "code",
   "execution_count": 3,
   "metadata": {},
   "outputs": [
    {
     "name": "stdout",
     "output_type": "stream",
     "text": [
      "  SNo  State                Indian-Confirmed    Foreign-Confirmed    Cured    Death\n",
      "-----  -----------------  ------------------  -------------------  -------  -------\n",
      "    1  Andhra Pradesh                     11                    0        1        0\n",
      "    2  Bihar                               3                    0        0        1\n",
      "    3  Chhattisgarh                        3                    0        0        0\n",
      "    4  Delhi                              34                    1        6        1\n",
      "    5  Goa                                 3                    0        0        0\n",
      "    6  Gujarat                            37                    1        0        2\n",
      "    7  Haryana                            16                   14       11        0\n",
      "    8  Himachal Pradesh                    3                    0        0        1\n",
      "    9  Karnataka                          41                    0        3        1\n",
      "   10  Kerala                            110                    8        4        0\n",
      "   11  Madhya Pradesh                     15                    0        0        1\n",
      "   12  Maharashtra                       121                    3        1        3\n",
      "   13  Manipur                             1                    0        0        0\n",
      "   14  Mizoram                             1                    0        0        0\n",
      "   15  Odisha                              2                    0        0        0\n",
      "   16  Puducherry                          1                    0        0        0\n",
      "   17  Punjab                             33                    0        0        1\n",
      "   18  Rajasthan                          36                    2        3        0\n",
      "   19  Tamil Nadu                         20                    6        1        1\n",
      "   20  Telengana                          31                   10        1        0\n",
      "   21  Chandigarh                          7                    0        0        0\n",
      "   22  Jammu and Kashmir                  11                    0        1        0\n",
      "   23  Ladakh                             13                    0        0        0\n",
      "   24  Uttar Pradesh                      36                    1       11        0\n",
      "   25  Uttarakhand                         4                    1        0        0\n",
      "   26  West Bengal                         9                    0        0        1\n"
     ]
    }
   ],
   "source": [
    "objects = [] \n",
    "for row in stats : \n",
    "\tobjects.append(row[1]) \n",
    "\n",
    "y_pos = np.arange(len(objects)) \n",
    "\n",
    "performance = [] \n",
    "for row in stats : \n",
    "\tperformance.append(int(row[2]) + int(row[3])) \n",
    "\n",
    "table = tabulate(stats, headers=SHORT_HEADERS) \n",
    "print(table) \n"
   ]
  },
  {
   "cell_type": "code",
   "execution_count": 4,
   "metadata": {
    "scrolled": true
   },
   "outputs": [
    {
     "data": {
      "image/png": "[encoded data removed]",
      "text/plain": [
       "<Figure size 432x288 with 1 Axes>"
      ]
     },
     "metadata": {
      "needs_background": "light"
     },
     "output_type": "display_data"
    }
   ],
   "source": [
    "plt.barh(y_pos, performance, align='center', alpha=0.5, \n",
    "\t\t\t\tcolor=(234/256.0, 128/256.0, 252/256.0), \n",
    "\t\t\t\tedgecolor=(106/256.0, 27/256.0, 154/256.0)) \n",
    "\n",
    "plt.yticks(y_pos, objects) \n",
    "plt.xlim(1,80) \n",
    "plt.xlabel('Number of Cases') \n",
    "plt.title('Corona Virus Cases') \n",
    "plt.show() \n"
   ]
  }
 ],
 "metadata": {
  "kernelspec": {
   "display_name": "Python 3",
   "language": "python",
   "name": "python3"
  },
  "language_info": {
   "codemirror_mode": {
    "name": "ipython",
    "version": 3
   },
   "file_extension": ".py",
   "mimetype": "text/x-python",
   "name": "python",
   "nbconvert_exporter": "python",
   "pygments_lexer": "ipython3",
   "version": "3.7.6"
  }
 },
 "nbformat": 4,
 "nbformat_minor": 4
}
